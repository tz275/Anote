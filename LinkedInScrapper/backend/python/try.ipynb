{
 "cells": [
  {
   "cell_type": "code",
   "execution_count": 51,
   "metadata": {},
   "outputs": [],
   "source": [
    "from selenium import webdriver\n",
    "import time\n",
    "from selenium.webdriver.common.by import By\n",
    "import re\n",
    "import random\n",
    "import json\n",
    "from selenium.webdriver.common.keys import Keys\n",
    "from bs4 import BeautifulSoup\n",
    "import pandas as pd\n",
    "import requests\n",
    "from dotenv import load_dotenv\n",
    "import os\n",
    "from api import Gpt"
   ]
  },
  {
   "cell_type": "code",
   "execution_count": 52,
   "metadata": {},
   "outputs": [],
   "source": [
    "def sleep(_min=1, _max=9):\n",
    "    rand_float = random.uniform(_min, _max)\n",
    "    print(f\"This machine will sleep {round(rand_float, 2)} second\")\n",
    "    time.sleep(rand_float)"
   ]
  },
  {
   "cell_type": "code",
   "execution_count": 57,
   "metadata": {},
   "outputs": [
    {
     "name": "stderr",
     "output_type": "stream",
     "text": [
      "/var/folders/yh/d_jgns49545bkkpm4rst2c_80000gn/T/ipykernel_6669/2647800639.py:2: DeprecationWarning: executable_path has been deprecated, please pass in a Service object\n",
      "  wd = webdriver.Chrome(r'/Users/tingkangzhao/SeleniumDriver/chromedriver') #path to the chromedriver\n"
     ]
    }
   ],
   "source": [
    "# start the selenium driver and feed the Linkedin url to it\n",
    "wd = webdriver.Chrome(r'/Users/tingkangzhao/SeleniumDriver/chromedriver') #path to the chromedriver\n",
    "wd.implicitly_wait(21)\n",
    "\n",
    "url = \"https://www.linkedin.com\"\n",
    "wd.get(url)\n",
    "\n",
    "# try:\n",
    "#     wd.find_element(By.CSS_SELECTOR, \".google-auth\")\n",
    "# except:\n",
    "#     wd.refresh()\n"
   ]
  },
  {
   "cell_type": "code",
   "execution_count": 56,
   "metadata": {},
   "outputs": [],
   "source": [
    "wd.quit()"
   ]
  },
  {
   "cell_type": "code",
   "execution_count": 55,
   "metadata": {},
   "outputs": [
    {
     "data": {
      "text/plain": [
       "'Be sure to include \"+\" and your country code.'"
      ]
     },
     "execution_count": 55,
     "metadata": {},
     "output_type": "execute_result"
    }
   ],
   "source": [
    "wd.find_element(By.CSS_SELECTOR, \"div[error-for]\").text"
   ]
  },
  {
   "cell_type": "code",
   "execution_count": 23,
   "metadata": {},
   "outputs": [],
   "source": [
    "try:\n",
    "    wd.find_element(By.CSS_SELECTOR, \"button.authwall-join-form__form-toggle--bottom.form-toggle\").click()\n",
    "except:\n",
    "    pass"
   ]
  },
  {
   "cell_type": "code",
   "execution_count": 47,
   "metadata": {},
   "outputs": [
    {
     "data": {
      "text/plain": [
       "'<iframe class=\"\" id=\"captcha-internal\" src=\"https://www.linkedin.com/checkpoint/challenge/funCaptchaInternal\" frameborder=\"0\" role=\"presentation\" title=\"Captcha Challenge\" height=\"290\" width=\"302\"></iframe>'"
      ]
     },
     "execution_count": 47,
     "metadata": {},
     "output_type": "execute_result"
    }
   ],
   "source": [
    "try:\n",
    "    wd.find_element(By.CSS_SELECTOR, \"iframe#captcha-internal\")\n",
    "except:\n",
    "    pass\n"
   ]
  },
  {
   "cell_type": "code",
   "execution_count": 20,
   "metadata": {},
   "outputs": [
    {
     "ename": "InvalidSelectorException",
     "evalue": "Message: invalid selector: An invalid or illegal selector was specified\n  (Session info: chrome=113.0.5672.126)\nStacktrace:\n0   chromedriver                        0x000000010085f8ac chromedriver + 4257964\n1   chromedriver                        0x0000000100857f40 chromedriver + 4226880\n2   chromedriver                        0x00000001004949d4 chromedriver + 281044\n3   chromedriver                        0x0000000100499200 chromedriver + 299520\n4   chromedriver                        0x000000010049ab34 chromedriver + 305972\n5   chromedriver                        0x000000010049ac24 chromedriver + 306212\n6   chromedriver                        0x00000001004cf718 chromedriver + 522008\n7   chromedriver                        0x00000001005067e4 chromedriver + 747492\n8   chromedriver                        0x00000001004c398c chromedriver + 473484\n9   chromedriver                        0x00000001004c498c chromedriver + 477580\n10  chromedriver                        0x000000010081e900 chromedriver + 3991808\n11  chromedriver                        0x0000000100822354 chromedriver + 4006740\n12  chromedriver                        0x0000000100822940 chromedriver + 4008256\n13  chromedriver                        0x000000010082833c chromedriver + 4031292\n14  chromedriver                        0x0000000100822f34 chromedriver + 4009780\n15  chromedriver                        0x00000001007fb490 chromedriver + 3847312\n16  chromedriver                        0x00000001008409f4 chromedriver + 4131316\n17  chromedriver                        0x0000000100840b4c chromedriver + 4131660\n18  chromedriver                        0x0000000100851230 chromedriver + 4198960\n19  libsystem_pthread.dylib             0x00000001a6eda06c _pthread_start + 148\n20  libsystem_pthread.dylib             0x00000001a6ed4e2c thread_start + 8\n",
     "output_type": "error",
     "traceback": [
      "\u001b[0;31m---------------------------------------------------------------------------\u001b[0m",
      "\u001b[0;31mNoSuchElementException\u001b[0m                    Traceback (most recent call last)",
      "\u001b[1;32m/Users/tingkangzhao/Desktop/工作/Anote/LinkedInScrapper/backend/python/try.ipynb Cell 6\u001b[0m in \u001b[0;36m<cell line: 15>\u001b[0;34m()\u001b[0m\n\u001b[1;32m     <a href='vscode-notebook-cell:/Users/tingkangzhao/Desktop/%E5%B7%A5%E4%BD%9C/Anote/LinkedInScrapper/backend/python/try.ipynb#W5sZmlsZQ%3D%3D?line=14'>15</a>\u001b[0m \u001b[39mtry\u001b[39;00m:\n\u001b[0;32m---> <a href='vscode-notebook-cell:/Users/tingkangzhao/Desktop/%E5%B7%A5%E4%BD%9C/Anote/LinkedInScrapper/backend/python/try.ipynb#W5sZmlsZQ%3D%3D?line=15'>16</a>\u001b[0m     wd\u001b[39m.\u001b[39;49mfind_element(By\u001b[39m.\u001b[39;49mCSS_SELECTOR, \u001b[39m\"\u001b[39;49m\u001b[39m#main-content > section.section.min-h-\u001b[39;49m\u001b[39m\\\u001b[39;49m\u001b[39m[560px\u001b[39;49m\u001b[39m\\\u001b[39;49m\u001b[39m].flex-nowrap.pt-\u001b[39;49m\u001b[39m\\\u001b[39;49m\u001b[39m[40px\u001b[39;49m\u001b[39m\\\u001b[39;49m\u001b[39m].babybear\u001b[39;49m\u001b[39m\\\u001b[39;49m\u001b[39m:flex-col.babybear\u001b[39;49m\u001b[39m\\\u001b[39;49m\u001b[39m:min-h-\u001b[39;49m\u001b[39m\\\u001b[39;49m\u001b[39m[0\u001b[39;49m\u001b[39m\\\u001b[39;49m\u001b[39m].babybear\u001b[39;49m\u001b[39m\\\u001b[39;49m\u001b[39m:px-mobile-container-padding.babybear\u001b[39;49m\u001b[39m\\\u001b[39;49m\u001b[39m:pt-\u001b[39;49m\u001b[39m\\\u001b[39;49m\u001b[39m[24px\u001b[39;49m\u001b[39m\\\u001b[39;49m\u001b[39m] > div > div > form:nth-child(7) > div.flex.justify-between.sign-in-form__footer--full-width > button\u001b[39;49m\u001b[39m\"\u001b[39;49m)\u001b[39m.\u001b[39mclick()\n\u001b[1;32m     <a href='vscode-notebook-cell:/Users/tingkangzhao/Desktop/%E5%B7%A5%E4%BD%9C/Anote/LinkedInScrapper/backend/python/try.ipynb#W5sZmlsZQ%3D%3D?line=16'>17</a>\u001b[0m \u001b[39mexcept\u001b[39;00m:\n",
      "File \u001b[0;32m/opt/anaconda3/lib/python3.8/site-packages/selenium/webdriver/remote/webdriver.py:1238\u001b[0m, in \u001b[0;36mWebDriver.find_element\u001b[0;34m(self, by, value)\u001b[0m\n\u001b[1;32m   1236\u001b[0m     value \u001b[39m=\u001b[39m \u001b[39m'\u001b[39m\u001b[39m[name=\u001b[39m\u001b[39m\"\u001b[39m\u001b[39m%s\u001b[39;00m\u001b[39m\"\u001b[39m\u001b[39m]\u001b[39m\u001b[39m'\u001b[39m \u001b[39m%\u001b[39m value\n\u001b[0;32m-> 1238\u001b[0m \u001b[39mreturn\u001b[39;00m \u001b[39mself\u001b[39;49m\u001b[39m.\u001b[39;49mexecute(Command\u001b[39m.\u001b[39;49mFIND_ELEMENT, {\n\u001b[1;32m   1239\u001b[0m     \u001b[39m'\u001b[39;49m\u001b[39musing\u001b[39;49m\u001b[39m'\u001b[39;49m: by,\n\u001b[1;32m   1240\u001b[0m     \u001b[39m'\u001b[39;49m\u001b[39mvalue\u001b[39;49m\u001b[39m'\u001b[39;49m: value})[\u001b[39m'\u001b[39m\u001b[39mvalue\u001b[39m\u001b[39m'\u001b[39m]\n",
      "File \u001b[0;32m/opt/anaconda3/lib/python3.8/site-packages/selenium/webdriver/remote/webdriver.py:418\u001b[0m, in \u001b[0;36mWebDriver.execute\u001b[0;34m(self, driver_command, params)\u001b[0m\n\u001b[1;32m    417\u001b[0m \u001b[39mif\u001b[39;00m response:\n\u001b[0;32m--> 418\u001b[0m     \u001b[39mself\u001b[39;49m\u001b[39m.\u001b[39;49merror_handler\u001b[39m.\u001b[39;49mcheck_response(response)\n\u001b[1;32m    419\u001b[0m     response[\u001b[39m'\u001b[39m\u001b[39mvalue\u001b[39m\u001b[39m'\u001b[39m] \u001b[39m=\u001b[39m \u001b[39mself\u001b[39m\u001b[39m.\u001b[39m_unwrap_value(\n\u001b[1;32m    420\u001b[0m         response\u001b[39m.\u001b[39mget(\u001b[39m'\u001b[39m\u001b[39mvalue\u001b[39m\u001b[39m'\u001b[39m, \u001b[39mNone\u001b[39;00m))\n",
      "File \u001b[0;32m/opt/anaconda3/lib/python3.8/site-packages/selenium/webdriver/remote/errorhandler.py:243\u001b[0m, in \u001b[0;36mErrorHandler.check_response\u001b[0;34m(self, response)\u001b[0m\n\u001b[1;32m    242\u001b[0m     \u001b[39mraise\u001b[39;00m exception_class(message, screen, stacktrace, alert_text)  \u001b[39m# type: ignore[call-arg]  # mypy is not smart enough here\u001b[39;00m\n\u001b[0;32m--> 243\u001b[0m \u001b[39mraise\u001b[39;00m exception_class(message, screen, stacktrace)\n",
      "\u001b[0;31mNoSuchElementException\u001b[0m: Message: no such element: Unable to locate element: {\"method\":\"css selector\",\"selector\":\"#main-content > section.section.min-h-\\[560px\\].flex-nowrap.pt-\\[40px\\].babybear\\:flex-col.babybear\\:min-h-\\[0\\].babybear\\:px-mobile-container-padding.babybear\\:pt-\\[24px\\] > div > div > form:nth-child(7) > div.flex.justify-between.sign-in-form__footer--full-width > button\"}\n  (Session info: chrome=113.0.5672.126)\nStacktrace:\n0   chromedriver                        0x000000010085f8ac chromedriver + 4257964\n1   chromedriver                        0x0000000100857f40 chromedriver + 4226880\n2   chromedriver                        0x00000001004949d4 chromedriver + 281044\n3   chromedriver                        0x00000001004cfa34 chromedriver + 522804\n4   chromedriver                        0x00000001005067e4 chromedriver + 747492\n5   chromedriver                        0x00000001004c398c chromedriver + 473484\n6   chromedriver                        0x00000001004c498c chromedriver + 477580\n7   chromedriver                        0x000000010081e900 chromedriver + 3991808\n8   chromedriver                        0x0000000100822354 chromedriver + 4006740\n9   chromedriver                        0x0000000100822940 chromedriver + 4008256\n10  chromedriver                        0x000000010082833c chromedriver + 4031292\n11  chromedriver                        0x0000000100822f34 chromedriver + 4009780\n12  chromedriver                        0x00000001007fb490 chromedriver + 3847312\n13  chromedriver                        0x00000001008409f4 chromedriver + 4131316\n14  chromedriver                        0x0000000100840b4c chromedriver + 4131660\n15  chromedriver                        0x0000000100851230 chromedriver + 4198960\n16  libsystem_pthread.dylib             0x00000001a6eda06c _pthread_start + 148\n17  libsystem_pthread.dylib             0x00000001a6ed4e2c thread_start + 8\n",
      "\nDuring handling of the above exception, another exception occurred:\n",
      "\u001b[0;31mInvalidSelectorException\u001b[0m                  Traceback (most recent call last)",
      "\u001b[1;32m/Users/tingkangzhao/Desktop/工作/Anote/LinkedInScrapper/backend/python/try.ipynb Cell 6\u001b[0m in \u001b[0;36m<cell line: 15>\u001b[0;34m()\u001b[0m\n\u001b[1;32m     <a href='vscode-notebook-cell:/Users/tingkangzhao/Desktop/%E5%B7%A5%E4%BD%9C/Anote/LinkedInScrapper/backend/python/try.ipynb#W5sZmlsZQ%3D%3D?line=15'>16</a>\u001b[0m     wd\u001b[39m.\u001b[39mfind_element(By\u001b[39m.\u001b[39mCSS_SELECTOR, \u001b[39m\"\u001b[39m\u001b[39m#main-content > section.section.min-h-\u001b[39m\u001b[39m\\\u001b[39m\u001b[39m[560px\u001b[39m\u001b[39m\\\u001b[39m\u001b[39m].flex-nowrap.pt-\u001b[39m\u001b[39m\\\u001b[39m\u001b[39m[40px\u001b[39m\u001b[39m\\\u001b[39m\u001b[39m].babybear\u001b[39m\u001b[39m\\\u001b[39m\u001b[39m:flex-col.babybear\u001b[39m\u001b[39m\\\u001b[39m\u001b[39m:min-h-\u001b[39m\u001b[39m\\\u001b[39m\u001b[39m[0\u001b[39m\u001b[39m\\\u001b[39m\u001b[39m].babybear\u001b[39m\u001b[39m\\\u001b[39m\u001b[39m:px-mobile-container-padding.babybear\u001b[39m\u001b[39m\\\u001b[39m\u001b[39m:pt-\u001b[39m\u001b[39m\\\u001b[39m\u001b[39m[24px\u001b[39m\u001b[39m\\\u001b[39m\u001b[39m] > div > div > form:nth-child(7) > div.flex.justify-between.sign-in-form__footer--full-width > button\u001b[39m\u001b[39m\"\u001b[39m)\u001b[39m.\u001b[39mclick()\n\u001b[1;32m     <a href='vscode-notebook-cell:/Users/tingkangzhao/Desktop/%E5%B7%A5%E4%BD%9C/Anote/LinkedInScrapper/backend/python/try.ipynb#W5sZmlsZQ%3D%3D?line=16'>17</a>\u001b[0m \u001b[39mexcept\u001b[39;00m:\n\u001b[0;32m---> <a href='vscode-notebook-cell:/Users/tingkangzhao/Desktop/%E5%B7%A5%E4%BD%9C/Anote/LinkedInScrapper/backend/python/try.ipynb#W5sZmlsZQ%3D%3D?line=17'>18</a>\u001b[0m     wd\u001b[39m.\u001b[39;49mfind_element(By\u001b[39m.\u001b[39;49mCSS_SELECTOR, \u001b[39m\"\u001b[39;49m\u001b[39mbutton.btn-md.btn-primary.flex-shrink-0.cursor-pointer.sign-in-form__submit-btn--full-width[data-id=\u001b[39;49m\u001b[39m'\u001b[39;49m\u001b[39msign-in-form__submit-btn\u001b[39;49m\u001b[39m'\u001b[39;49m\u001b[39mby=]\u001b[39;49m\u001b[39m\"\u001b[39;49m)\n",
      "File \u001b[0;32m/opt/anaconda3/lib/python3.8/site-packages/selenium/webdriver/remote/webdriver.py:1238\u001b[0m, in \u001b[0;36mWebDriver.find_element\u001b[0;34m(self, by, value)\u001b[0m\n\u001b[1;32m   1235\u001b[0m     by \u001b[39m=\u001b[39m By\u001b[39m.\u001b[39mCSS_SELECTOR\n\u001b[1;32m   1236\u001b[0m     value \u001b[39m=\u001b[39m \u001b[39m'\u001b[39m\u001b[39m[name=\u001b[39m\u001b[39m\"\u001b[39m\u001b[39m%s\u001b[39;00m\u001b[39m\"\u001b[39m\u001b[39m]\u001b[39m\u001b[39m'\u001b[39m \u001b[39m%\u001b[39m value\n\u001b[0;32m-> 1238\u001b[0m \u001b[39mreturn\u001b[39;00m \u001b[39mself\u001b[39;49m\u001b[39m.\u001b[39;49mexecute(Command\u001b[39m.\u001b[39;49mFIND_ELEMENT, {\n\u001b[1;32m   1239\u001b[0m     \u001b[39m'\u001b[39;49m\u001b[39musing\u001b[39;49m\u001b[39m'\u001b[39;49m: by,\n\u001b[1;32m   1240\u001b[0m     \u001b[39m'\u001b[39;49m\u001b[39mvalue\u001b[39;49m\u001b[39m'\u001b[39;49m: value})[\u001b[39m'\u001b[39m\u001b[39mvalue\u001b[39m\u001b[39m'\u001b[39m]\n",
      "File \u001b[0;32m/opt/anaconda3/lib/python3.8/site-packages/selenium/webdriver/remote/webdriver.py:418\u001b[0m, in \u001b[0;36mWebDriver.execute\u001b[0;34m(self, driver_command, params)\u001b[0m\n\u001b[1;32m    416\u001b[0m response \u001b[39m=\u001b[39m \u001b[39mself\u001b[39m\u001b[39m.\u001b[39mcommand_executor\u001b[39m.\u001b[39mexecute(driver_command, params)\n\u001b[1;32m    417\u001b[0m \u001b[39mif\u001b[39;00m response:\n\u001b[0;32m--> 418\u001b[0m     \u001b[39mself\u001b[39;49m\u001b[39m.\u001b[39;49merror_handler\u001b[39m.\u001b[39;49mcheck_response(response)\n\u001b[1;32m    419\u001b[0m     response[\u001b[39m'\u001b[39m\u001b[39mvalue\u001b[39m\u001b[39m'\u001b[39m] \u001b[39m=\u001b[39m \u001b[39mself\u001b[39m\u001b[39m.\u001b[39m_unwrap_value(\n\u001b[1;32m    420\u001b[0m         response\u001b[39m.\u001b[39mget(\u001b[39m'\u001b[39m\u001b[39mvalue\u001b[39m\u001b[39m'\u001b[39m, \u001b[39mNone\u001b[39;00m))\n\u001b[1;32m    421\u001b[0m     \u001b[39mreturn\u001b[39;00m response\n",
      "File \u001b[0;32m/opt/anaconda3/lib/python3.8/site-packages/selenium/webdriver/remote/errorhandler.py:243\u001b[0m, in \u001b[0;36mErrorHandler.check_response\u001b[0;34m(self, response)\u001b[0m\n\u001b[1;32m    241\u001b[0m         alert_text \u001b[39m=\u001b[39m value[\u001b[39m'\u001b[39m\u001b[39malert\u001b[39m\u001b[39m'\u001b[39m]\u001b[39m.\u001b[39mget(\u001b[39m'\u001b[39m\u001b[39mtext\u001b[39m\u001b[39m'\u001b[39m)\n\u001b[1;32m    242\u001b[0m     \u001b[39mraise\u001b[39;00m exception_class(message, screen, stacktrace, alert_text)  \u001b[39m# type: ignore[call-arg]  # mypy is not smart enough here\u001b[39;00m\n\u001b[0;32m--> 243\u001b[0m \u001b[39mraise\u001b[39;00m exception_class(message, screen, stacktrace)\n",
      "\u001b[0;31mInvalidSelectorException\u001b[0m: Message: invalid selector: An invalid or illegal selector was specified\n  (Session info: chrome=113.0.5672.126)\nStacktrace:\n0   chromedriver                        0x000000010085f8ac chromedriver + 4257964\n1   chromedriver                        0x0000000100857f40 chromedriver + 4226880\n2   chromedriver                        0x00000001004949d4 chromedriver + 281044\n3   chromedriver                        0x0000000100499200 chromedriver + 299520\n4   chromedriver                        0x000000010049ab34 chromedriver + 305972\n5   chromedriver                        0x000000010049ac24 chromedriver + 306212\n6   chromedriver                        0x00000001004cf718 chromedriver + 522008\n7   chromedriver                        0x00000001005067e4 chromedriver + 747492\n8   chromedriver                        0x00000001004c398c chromedriver + 473484\n9   chromedriver                        0x00000001004c498c chromedriver + 477580\n10  chromedriver                        0x000000010081e900 chromedriver + 3991808\n11  chromedriver                        0x0000000100822354 chromedriver + 4006740\n12  chromedriver                        0x0000000100822940 chromedriver + 4008256\n13  chromedriver                        0x000000010082833c chromedriver + 4031292\n14  chromedriver                        0x0000000100822f34 chromedriver + 4009780\n15  chromedriver                        0x00000001007fb490 chromedriver + 3847312\n16  chromedriver                        0x00000001008409f4 chromedriver + 4131316\n17  chromedriver                        0x0000000100840b4c chromedriver + 4131660\n18  chromedriver                        0x0000000100851230 chromedriver + 4198960\n19  libsystem_pthread.dylib             0x00000001a6eda06c _pthread_start + 148\n20  libsystem_pthread.dylib             0x00000001a6ed4e2c thread_start + 8\n"
     ]
    }
   ],
   "source": [
    "# login to the Linkedin website\n",
    "load_dotenv()\n",
    "user_name = os.getenv(\"EMAIL\")\n",
    "password = os.getenv(\"PASSWORD\")\n",
    "\n",
    "user_name = \"1234@gmail.com\"\n",
    "password = \"password\"\n",
    "\n",
    "user_name_box = wd.find_element(By.CSS_SELECTOR, \"#session_key\")\n",
    "password_box = wd.find_element(By.CSS_SELECTOR, \"#session_password\")\n",
    "\n",
    "user_name_box.send_keys(user_name)\n",
    "sleep()\n",
    "password_box.send_keys(password)\n",
    "\n",
    "# click the login button to login\n",
    "sleep()\n",
    "try:\n",
    "    wd.find_element(By.CSS_SELECTOR, \"#main-content > section.section.min-h-\\[560px\\].flex-nowrap.pt-\\[40px\\].babybear\\:flex-col.babybear\\:min-h-\\[0\\].babybear\\:px-mobile-container-padding.babybear\\:pt-\\[24px\\] > div > div > form:nth-child(7) > div.flex.justify-between.sign-in-form__footer--full-width > button\").click()\n",
    "except:\n",
    "    wd.find_element(By.CSS_SELECTOR, \"button.btn-md.btn-primary.flex-shrink-0.cursor-pointer.sign-in-form__submit-btn--full-width[data-id='sign-in-form__submit-btn']\")\n"
   ]
  },
  {
   "cell_type": "code",
   "execution_count": 13,
   "metadata": {},
   "outputs": [
    {
     "data": {
      "text/plain": [
       "True"
      ]
     },
     "execution_count": 13,
     "metadata": {},
     "output_type": "execute_result"
    }
   ],
   "source": [
    "bool('False')"
   ]
  },
  {
   "cell_type": "code",
   "execution_count": 6,
   "metadata": {},
   "outputs": [],
   "source": [
    "# get the user cookies and session for the beautiful soup frame-work\n",
    "cookies = wd.get_cookies()\n",
    "session = wd.session_id"
   ]
  },
  {
   "cell_type": "code",
   "execution_count": 5,
   "metadata": {},
   "outputs": [
    {
     "name": "stdout",
     "output_type": "stream",
     "text": [
      "This machine will sleep 25.46 second\n"
     ]
    }
   ],
   "source": [
    "# go to My Network Page\n",
    "my_network_button = wd.find_element(By.CSS_SELECTOR, \"ul.global-nav__primary-items>li:nth-child(2)\")\n",
    "my_network_button.click()\n",
    "sleep(21, 29)"
   ]
  },
  {
   "cell_type": "code",
   "execution_count": 6,
   "metadata": {},
   "outputs": [
    {
     "name": "stdout",
     "output_type": "stream",
     "text": [
      "This machine will sleep 4.0 second\n"
     ]
    }
   ],
   "source": [
    "# go to Connections\n",
    "connections_button = wd.find_element(By.CSS_SELECTOR, \"div.mn-community-summary__section.artdeco-dropdown a:nth-child(1)\")\n",
    "connections_button.click()\n",
    "sleep()\n"
   ]
  },
  {
   "cell_type": "code",
   "execution_count": 9,
   "metadata": {},
   "outputs": [
    {
     "name": "stdout",
     "output_type": "stream",
     "text": [
      "This machine will sleep 8.54 second\n"
     ]
    }
   ],
   "source": [
    "# scroll to the bottom\n",
    "\n",
    "last_height = wd.execute_script(\"return document.body.scrollHeight\")\n",
    "\n",
    "while True:\n",
    "    # Scroll down to bottom\n",
    "    wd.execute_script(\"window.scrollTo(0, document.body.scrollHeight);\")\n",
    "\n",
    "    # Wait for new content to load\n",
    "    time.sleep(1)\n",
    "\n",
    "    # Calculate new page height and check if it has changed\n",
    "    new_height = wd.execute_script(\"return document.body.scrollHeight\")\n",
    "    if new_height == last_height:\n",
    "        break\n",
    "    last_height = new_height\n",
    "    sleep()"
   ]
  },
  {
   "cell_type": "code",
   "execution_count": 79,
   "metadata": {},
   "outputs": [
    {
     "name": "stdout",
     "output_type": "stream",
     "text": [
      "This machine will sleep 1.59 second\n",
      "This machine will sleep 3.94 second\n",
      "This machine will sleep 3.27 second\n",
      "This machine will sleep 2.7 second\n",
      "This machine will sleep 2.98 second\n",
      "This machine will sleep 2.02 second\n",
      "This machine will sleep 3.56 second\n",
      "This machine will sleep 1.22 second\n",
      "This machine will sleep 2.8 second\n",
      "This machine will sleep 1.4 second\n",
      "This machine will sleep 2.77 second\n",
      "This machine will sleep 3.46 second\n",
      "This machine will sleep 1.91 second\n",
      "This machine will sleep 3.89 second\n",
      "This machine will sleep 3.47 second\n",
      "This machine will sleep 3.93 second\n",
      "This machine will sleep 2.19 second\n",
      "This machine will sleep 2.73 second\n",
      "This machine will sleep 1.94 second\n",
      "This machine will sleep 1.82 second\n",
      "This machine will sleep 2.1 second\n",
      "This machine will sleep 3.07 second\n",
      "This machine will sleep 1.95 second\n",
      "This machine will sleep 1.84 second\n",
      "This machine will sleep 1.18 second\n",
      "This machine will sleep 3.5 second\n",
      "This machine will sleep 1.2 second\n",
      "This machine will sleep 3.85 second\n",
      "This machine will sleep 4.0 second\n",
      "This machine will sleep 1.17 second\n",
      "This machine will sleep 1.35 second\n",
      "This machine will sleep 1.03 second\n",
      "This machine will sleep 2.6 second\n",
      "This machine will sleep 3.39 second\n",
      "This machine will sleep 3.73 second\n",
      "This machine will sleep 1.72 second\n",
      "This machine will sleep 2.98 second\n",
      "This machine will sleep 2.44 second\n",
      "This machine will sleep 3.13 second\n"
     ]
    }
   ],
   "source": [
    "# get each connection of the user\n",
    "urls = []\n",
    "all_info = []\n",
    "all_connections_form = wd.find_element(By.CSS_SELECTOR, \"div.scaffold-finite-scroll__content\")\n",
    "sleep()\n",
    "all_connections = all_connections_form.find_elements(By.CSS_SELECTOR, \"li\")\n",
    "for connection in all_connections:\n",
    "    connection_url = connection.find_element(By.TAG_NAME, \"a\").get_attribute(\"href\")\n",
    "    urls.append(connection_url)\n",
    "    sleep(1,4)"
   ]
  },
  {
   "cell_type": "code",
   "execution_count": 82,
   "metadata": {},
   "outputs": [],
   "source": [
    "def prompt_summarize_woking_info(text):\n",
    "    prompt = f'''\n",
    "        Your task is to summarize the following text message to the list of json format\n",
    "\n",
    "        json:\n",
    "        {{company_name: String,\n",
    "        start_date: String,\n",
    "        end_date: String,\n",
    "        description: String\n",
    "        }}\n",
    "\n",
    "        data:\n",
    "        {text}\n",
    "        '''\n",
    "    return prompt\n",
    "\n",
    "def prompt_email(text):\n",
    "    prompt = f'''\n",
    "    Your task is to write an email all in English utilizing the JSON data which is delimited with triple backticks. \n",
    "    The email should be sent from a Machine Learning Company called Anote representative, with a proper greeting directed toward the individual's recent working experience.\n",
    "    Return the email content that is prepared for sending to the intended recipient without the Subject. (Do not include any words like [your name], [your phone], etc. in this email.)\n",
    "\n",
    "    ```\n",
    "    {text}\n",
    "    ```\n",
    "    '''\n",
    "    return prompt"
   ]
  },
  {
   "cell_type": "code",
   "execution_count": 18,
   "metadata": {},
   "outputs": [],
   "source": [
    "x = \"\""
   ]
  },
  {
   "cell_type": "code",
   "execution_count": 19,
   "metadata": {},
   "outputs": [
    {
     "name": "stdout",
     "output_type": "stream",
     "text": [
      "Cornell Tech\n",
      "Cornell Tech\n",
      "4 yrs 11 mos\n",
      "4 yrs 11 mos\n",
      "PHD Candidate\n",
      "PHD Candidate\n",
      "Full-time\n",
      "Full-time\n",
      "Aug 2019 - Present · 3 yrs 11 mos\n",
      "Aug 2019 - Present · 3 yrs 11 mos\n",
      "Manhattan, New York, United States\n",
      "Manhattan, New York, United States\n",
      "Assist Dr. Wendy Ju in designing, running, and analyzing human robot interaction studies (fashion for robots, social appropriateness of robots).\n",
      "…see more\n",
      "Research Assistant\n",
      "Research Assistant\n",
      "Aug 2018 - Aug 2019 · 1 yr 1 mo\n",
      "Aug 2018 - Aug 2019 · 1 yr 1 mo\n",
      "Greater New York City Area\n",
      "Greater New York City Area\n",
      "- Assist Dr. Wendy Ju with literature review, study design, and protocol for various projects including: A Wizard-Of-Oz study on Chairbot in the Cafeteria and A Cross-Cultural Study on Driving in Ambiguous Situations and Needfinding for Voice-Activated Devices for People with Tetraplegia.\n",
      "- Collaborate with a Human-Experience Lab and Team-Oriented Technology Lab at Technion University in order to design and run studies involving driving in a virtual reality environment\n",
      "- Tele-operate a Chairbot, a remote motor controlled plastic chair to interact with people in the cafeteria and distribute surveys accordingly.\n",
      "- Design needfinding questions on devices that people with Tetraplegia use in order to design appropriate voice-activated systems\n",
      "\n",
      "…see morePHD Candidate\n",
      "PHD Candidate\n",
      "Full-time\n",
      "Full-time\n",
      "Aug 2019 - Present · 3 yrs 11 mos\n",
      "Aug 2019 - Present · 3 yrs 11 mos\n",
      "Manhattan, New York, United States\n",
      "Manhattan, New York, United States\n",
      "Assist Dr. Wendy Ju in designing, running, and analyzing human robot interaction studies (fashion for robots, social appropriateness of robots).\n",
      "…see moreResearch Assistant\n",
      "Research Assistant\n",
      "Aug 2018 - Aug 2019 · 1 yr 1 mo\n",
      "Aug 2018 - Aug 2019 · 1 yr 1 mo\n",
      "Greater New York City Area\n",
      "Greater New York City Area\n",
      "- Assist Dr. Wendy Ju with literature review, study design, and protocol for various projects including: A Wizard-Of-Oz study on Chairbot in the Cafeteria and A Cross-Cultural Study on Driving in Ambiguous Situations and Needfinding for Voice-Activated Devices for People with Tetraplegia.\n",
      "- Collaborate with a Human-Experience Lab and Team-Oriented Technology Lab at Technion University in order to design and run studies involving driving in a virtual reality environment\n",
      "- Tele-operate a Chairbot, a remote motor controlled plastic chair to interact with people in the cafeteria and distribute surveys accordingly.\n",
      "- Design needfinding questions on devices that people with Tetraplegia use in order to design appropriate voice-activated systems\n",
      "\n",
      "…see moreHuman Robot Interaction Research Intern\n",
      "Human Robot Interaction Research Intern\n",
      "farm-ng · Internship\n",
      "farm-ng · Internship\n",
      "Jun 2021 - Nov 2021 · 6 mos\n",
      "Jun 2021 - Nov 2021 · 6 mos\n",
      "Watsonville, California, United States\n",
      "Watsonville, California, United States\n",
      "- Conduct wizard of oz study to qualitatively assess how farmers use the robot\n",
      "- Communicate with customers about their farm needs to apply to the robot\n",
      "- Document robot build for future engineers\n",
      "…see moreAutonomy Intern\n",
      "Autonomy Intern\n",
      "MITRE · Full-time\n",
      "MITRE · Full-time\n",
      "May 2020 - Oct 2021 · 1 yr 6 mos\n",
      "May 2020 - Oct 2021 · 1 yr 6 mos\n",
      "Bedford, Massachusetts, United States\n",
      "Bedford, Massachusetts, United StatesHuman-Robot Interaction Research Intern\n",
      "Human-Robot Interaction Research Intern\n",
      "Samsung Electronics\n",
      "Samsung Electronics\n",
      "May 2019 - Aug 2019 · 4 mos\n",
      "May 2019 - Aug 2019 · 4 mos\n",
      "Montreal, Quebec, Canada\n",
      "Montreal, Quebec, Canada\n",
      "- Designing study for assessing socially appropriate in-the-field robotic interactions \n",
      "- Running user studies internally and externally\n",
      "…see moreUser Experience Research Intern\n",
      "User Experience Research Intern\n",
      "Anki\n",
      "Anki\n",
      "Jun 2018 - Aug 2018 · 3 mos\n",
      "Jun 2018 - Aug 2018 · 3 mos\n",
      "San Francisco Bay Area\n",
      "San Francisco Bay Area\n",
      "- synthesize user research from playtests\n",
      "- analyze general user perception data and usability data\n",
      "- create videos displaying users' perceptions to inform UX designers' and engineers' work\n"
     ]
    },
    {
     "ename": "",
     "evalue": "",
     "output_type": "error",
     "traceback": [
      "\u001b[1;31mThe Kernel crashed while executing code in the the current cell or a previous cell. Please review the code in the cell(s) to identify a possible cause of the failure. Click <a href='https://aka.ms/vscodeJupyterKernelCrash'>here</a> for more info. View Jupyter <a href='command:jupyter.viewOutput'>log</a> for further details."
     ]
    }
   ],
   "source": [
    "wd.switch_to.window(wd.window_handles[1])\n",
    "experience_element = wd.find_element(By.CSS_SELECTOR, \"#experience\")\n",
    "parent = experience_element.find_element(By.XPATH, \"..\")\n",
    "for experience in parent.find_elements(By.CSS_SELECTOR, \"ul.pvs-list div.display-flex.flex-column.full-width.align-self-center\"):\n",
    "    x += experience.text\n",
    "print(x)"
   ]
  },
  {
   "cell_type": "code",
   "execution_count": 32,
   "metadata": {},
   "outputs": [],
   "source": [
    "wd.switch_to.window(wd.window_handles[1])"
   ]
  },
  {
   "cell_type": "code",
   "execution_count": 36,
   "metadata": {},
   "outputs": [],
   "source": [
    "wd.find_element(By.CSS_SELECTOR, \"div.pv-text-details__left-panel.mt2>span.pv-text-details__separator.t-black--light>a\").click()"
   ]
  },
  {
   "cell_type": "code",
   "execution_count": 41,
   "metadata": {},
   "outputs": [],
   "source": [
    "try:\n",
    "    email = wd.find_element(By.CSS_SELECTOR, \".pv-contact-info__contact-type.ci-email>div.pv-contact-info__ci-container.t-14>a\").text\n",
    "except:\n",
    "    email = None\n",
    "wd.find_element(By.CSS_SELECTOR, \"li-icon>svg\").click()"
   ]
  },
  {
   "cell_type": "code",
   "execution_count": 83,
   "metadata": {},
   "outputs": [],
   "source": [
    "def getExperience(wd):\n",
    "    wd.implicitly_wait(1)\n",
    "    wd.switch_to.window(wd.window_handles[1])\n",
    "    for element in wd.find_elements(By.CSS_SELECTOR, \"section.artdeco-card.ember-view.relative.break-words.pb3.mt2\"):\n",
    "        try:\n",
    "            element.find_element(By.CSS_SELECTOR, \"#experience\")\n",
    "            return element.text\n",
    "        except:\n",
    "            pass\n",
    "        sleep(1,3)"
   ]
  },
  {
   "cell_type": "code",
   "execution_count": null,
   "metadata": {},
   "outputs": [],
   "source": [
    "gpt = Gpt()\n",
    "\n",
    "for url in urls:\n",
    "    person = {}\n",
    "    person[\"url\"] = url\n",
    "    # check the detailed information on a new tab\n",
    "    wd.execute_script(f\"window.open('{url}');\")\n",
    "    wd.switch_to.window(wd.window_handles[1])\n",
    "    person[\"name\"] = wd.find_element(By.CSS_SELECTOR, \"h1.text-heading-xlarge.inline.t-24.v-align-middle.break-words\").text\n",
    "    sleep(3, 9)\n",
    "    info = getExperience(wd)\n",
    "    prompt = prompt_summarize_woking_info(info)\n",
    "    person[\"working_info\"] = gpt.chat(prompt) # chatgpt\n",
    "\n",
    "    # use ChatGPT generate message\n",
    "    prompt = prompt_email(str(person))\n",
    "    message = gpt.chat(prompt) # chatgpt\n",
    "    # store the info\n",
    "    person[\"message\"] = message\n",
    "    all_info.append(person)\n",
    "\n",
    "    # # Click the message button\n",
    "    # wd.find_element(By.CSS_SELECTOR,\"div.pv-top-card-v2-ctas button.artdeco-button.artdeco-button--2.artdeco-button--primary.ember-view\").click()\n",
    "    # # send the message\n",
    "    # wd.find_element(By.CSS_SELECTOR,\"div.msg-form__contenteditable.t-14.t-black--light.t-normal.flex-grow-1.full-height.notranslate\").send_keys(person[\"message\"])\n",
    "    # wd.find_element(By.CSS_SELECTOR, \"footer.msg-form__footer.flex-shrink-zero>.msg-form__right-actions.display-flex.align-items-center button\").click()\n",
    "    # sleep()\n",
    "\n",
    "    # quit current tab\n",
    "    wd.switch_to.window(wd.window_handles[1])\n",
    "    wd.close()\n",
    "    wd.switch_to.window(wd.window_handles[0])\n",
    "    sleep()\n",
    "\n",
    "wd.implicitly_wait(21)"
   ]
  },
  {
   "attachments": {},
   "cell_type": "markdown",
   "metadata": {},
   "source": []
  },
  {
   "cell_type": "code",
   "execution_count": 68,
   "metadata": {},
   "outputs": [],
   "source": [
    "# save person's contact info into csv\n",
    "df_urls = pd.DataFrame(all_info)\n",
    "df_urls.to_csv(\"member_urls.csv\", index=False)"
   ]
  },
  {
   "cell_type": "code",
   "execution_count": 70,
   "metadata": {},
   "outputs": [
    {
     "data": {
      "text/html": [
       "<div>\n",
       "<style scoped>\n",
       "    .dataframe tbody tr th:only-of-type {\n",
       "        vertical-align: middle;\n",
       "    }\n",
       "\n",
       "    .dataframe tbody tr th {\n",
       "        vertical-align: top;\n",
       "    }\n",
       "\n",
       "    .dataframe thead th {\n",
       "        text-align: right;\n",
       "    }\n",
       "</style>\n",
       "<table border=\"1\" class=\"dataframe\">\n",
       "  <thead>\n",
       "    <tr style=\"text-align: right;\">\n",
       "      <th></th>\n",
       "      <th>url</th>\n",
       "      <th>name</th>\n",
       "      <th>working_info</th>\n",
       "      <th>message</th>\n",
       "    </tr>\n",
       "  </thead>\n",
       "  <tbody>\n",
       "    <tr>\n",
       "      <th>0</th>\n",
       "      <td>https://www.linkedin.com/in/hui-hu-923bb3266/</td>\n",
       "      <td>Hui Hu</td>\n",
       "      <td>{\"position\": \"Marketing Specialist\",\\n \"compan...</td>\n",
       "      <td>Dear Hui Hu,\\n\\nI hope this email finds you we...</td>\n",
       "    </tr>\n",
       "    <tr>\n",
       "      <th>1</th>\n",
       "      <td>https://www.linkedin.com/in/hui-hu-923bb3266/</td>\n",
       "      <td>Hui Hu</td>\n",
       "      <td>{\"position\": \"Marketing Specialist\",\\n \"compan...</td>\n",
       "      <td>Dear Hui Hu,\\n\\nI hope this email finds you we...</td>\n",
       "    </tr>\n",
       "    <tr>\n",
       "      <th>2</th>\n",
       "      <td>https://www.linkedin.com/in/ilangraubart/</td>\n",
       "      <td>Ilan Graubart</td>\n",
       "      <td>{\"position\": \"Sourcer\",\\n \"company\": \"Blue Ori...</td>\n",
       "      <td>Dear Ilan Graubart,\\n\\nI hope this email finds...</td>\n",
       "    </tr>\n",
       "    <tr>\n",
       "      <th>3</th>\n",
       "      <td>https://www.linkedin.com/in/katiemulheron/</td>\n",
       "      <td>Katie Mulheron, SHRM-CP</td>\n",
       "      <td>{\"position\": \"Director, MS Career Advising - B...</td>\n",
       "      <td>Dear Katie Mulheron, SHRM-CP,\\n\\nI hope this e...</td>\n",
       "    </tr>\n",
       "    <tr>\n",
       "      <th>4</th>\n",
       "      <td>https://www.linkedin.com/in/nataliefriedman/</td>\n",
       "      <td>Natalie Friedman</td>\n",
       "      <td>{\"position\": \"PHD Candidate\",\\n \"company\": \"Co...</td>\n",
       "      <td>Dear Natalie Friedman,\\n\\nI hope this email fi...</td>\n",
       "    </tr>\n",
       "  </tbody>\n",
       "</table>\n",
       "</div>"
      ],
      "text/plain": [
       "                                             url                     name  \\\n",
       "0  https://www.linkedin.com/in/hui-hu-923bb3266/                   Hui Hu   \n",
       "1  https://www.linkedin.com/in/hui-hu-923bb3266/                   Hui Hu   \n",
       "2      https://www.linkedin.com/in/ilangraubart/            Ilan Graubart   \n",
       "3     https://www.linkedin.com/in/katiemulheron/  Katie Mulheron, SHRM-CP   \n",
       "4   https://www.linkedin.com/in/nataliefriedman/         Natalie Friedman   \n",
       "\n",
       "                                        working_info  \\\n",
       "0  {\"position\": \"Marketing Specialist\",\\n \"compan...   \n",
       "1  {\"position\": \"Marketing Specialist\",\\n \"compan...   \n",
       "2  {\"position\": \"Sourcer\",\\n \"company\": \"Blue Ori...   \n",
       "3  {\"position\": \"Director, MS Career Advising - B...   \n",
       "4  {\"position\": \"PHD Candidate\",\\n \"company\": \"Co...   \n",
       "\n",
       "                                             message  \n",
       "0  Dear Hui Hu,\\n\\nI hope this email finds you we...  \n",
       "1  Dear Hui Hu,\\n\\nI hope this email finds you we...  \n",
       "2  Dear Ilan Graubart,\\n\\nI hope this email finds...  \n",
       "3  Dear Katie Mulheron, SHRM-CP,\\n\\nI hope this e...  \n",
       "4  Dear Natalie Friedman,\\n\\nI hope this email fi...  "
      ]
     },
     "execution_count": 70,
     "metadata": {},
     "output_type": "execute_result"
    }
   ],
   "source": [
    "df_urls"
   ]
  },
  {
   "cell_type": "code",
   "execution_count": null,
   "metadata": {},
   "outputs": [],
   "source": []
  },
  {
   "cell_type": "code",
   "execution_count": null,
   "metadata": {},
   "outputs": [],
   "source": []
  },
  {
   "cell_type": "code",
   "execution_count": null,
   "metadata": {},
   "outputs": [],
   "source": []
  },
  {
   "attachments": {},
   "cell_type": "markdown",
   "metadata": {},
   "source": [
    "# Abandoned"
   ]
  },
  {
   "cell_type": "code",
   "execution_count": null,
   "metadata": {},
   "outputs": [
    {
     "name": "stdout",
     "output_type": "stream",
     "text": [
      "This machine will sleep 6.9 second\n",
      "This machine will sleep 4.36 second\n"
     ]
    }
   ],
   "source": [
    "# serach Data Scientist\n",
    "search = wd.find_element(By.CSS_SELECTOR, \"#global-nav-typeahead > input\")\n",
    "search.clear()\n",
    "sleep()\n",
    "search.send_keys(\"Rohan Reddy\")\n",
    "sleep()\n",
    "search.send_keys(Keys.RETURN)\n"
   ]
  },
  {
   "cell_type": "code",
   "execution_count": null,
   "metadata": {},
   "outputs": [],
   "source": [
    "# get into the page of membership under role of Data Scientist\n",
    "wd.find_element(By.CSS_SELECTOR, \".search-results-container>div:nth-child(3)>div>.search-results__cluster-bottom-banner.artdeco-button.artdeco-button--tertiary.artdeco-button--muted>a\").click()"
   ]
  },
  {
   "cell_type": "code",
   "execution_count": 197,
   "metadata": {},
   "outputs": [],
   "source": [
    "# get all linkedin urls of each person\n",
    "\n",
    "informations = []\n",
    "while len(informations) <= 30:\n",
    "    # get all the outer Linkedin urls of each member within one page   \n",
    "    for person in wd.find_elements(By.CSS_SELECTOR, \"li.reusable-search__result-container\"):\n",
    "        url = person.find_element(By.CSS_SELECTOR, \"a\").get_attribute(\"href\")\n",
    "        name = person.find_element(By.CSS_SELECTOR, \"span[aria-hidden='true']\").text\n",
    "        role = person.find_element(By.CSS_SELECTOR, \"p.entity-result__summary.entity-result__summary--2-lines.t-12.t-black--light.mb1\").text\n",
    "        informations.append({'person_name': name, 'linkedin_url': url, 'role': role, 'contact_information': None})\n",
    "    # go to the next page\n",
    "    while True:\n",
    "        sleep(4, 14)\n",
    "        try:\n",
    "            wd.find_element(By.CSS_SELECTOR, \"button[aria-label='Next']>li-icon\").click()\n",
    "            break\n",
    "        except:\n",
    "            print(\"we need to try again\")\n",
    "            pass\n",
    "    sleep(9, 49)"
   ]
  },
  {
   "cell_type": "code",
   "execution_count": 89,
   "metadata": {},
   "outputs": [],
   "source": [
    "# save person's contact info into csv\n",
    "df_urls = pd.DataFrame(informations, columns=[\"URLs\"])\n",
    "df_urls.to_csv(\"member_urls.csv\", index=False)"
   ]
  },
  {
   "cell_type": "code",
   "execution_count": null,
   "metadata": {},
   "outputs": [],
   "source": [
    "# incase did somthing wrong with the informations, read the csv that I saved before\n",
    "df = pd.read_csv(\"member_urls.csv\")\n",
    "member_urls = df[\"URLs\"].to_list()"
   ]
  },
  {
   "cell_type": "code",
   "execution_count": 189,
   "metadata": {},
   "outputs": [
    {
     "name": "stdout",
     "output_type": "stream",
     "text": [
      "https://www.linkedin.com/in/jielin-mao/\n"
     ]
    }
   ],
   "source": [
    "# BeautifulSoup work starts here\n",
    "headers = {'Cookie': '; '.join([f'{cookie[\"name\"]}={cookie[\"value\"]}' for cookie in cookies])}\n",
    "\n",
    "url_temp = \"https://www.linkedin.com/in/jielin-mao/\"\n",
    "print(url_temp)\n",
    "url_obj = requests.get(url_temp, headers=headers)\n",
    "bs = BeautifulSoup(url_obj.text, \"lxml\")"
   ]
  }
 ],
 "metadata": {
  "kernelspec": {
   "display_name": "base",
   "language": "python",
   "name": "python3"
  },
  "language_info": {
   "codemirror_mode": {
    "name": "ipython",
    "version": 3
   },
   "file_extension": ".py",
   "mimetype": "text/x-python",
   "name": "python",
   "nbconvert_exporter": "python",
   "pygments_lexer": "ipython3",
   "version": "3.8.2"
  },
  "orig_nbformat": 4
 },
 "nbformat": 4,
 "nbformat_minor": 2
}
